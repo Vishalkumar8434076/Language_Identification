{
 "cells": [
  {
   "cell_type": "markdown",
   "id": "69c146bc-07b4-430b-bfd4-26eb91a6a48d",
   "metadata": {},
   "source": [
    "# Language Indentification"
   ]
  },
  {
   "cell_type": "code",
   "execution_count": 1,
   "id": "d3195e03-671b-433a-8b02-738331d477c4",
   "metadata": {},
   "outputs": [],
   "source": [
    "# Importing Required ibraries\n",
    "from scipy.io import wavfile\n",
    "import warnings\n",
    "import zipfile\n",
    "import pandas as pd\n",
    "from sklearn import preprocessing\n",
    "import os\n",
    "warnings.filterwarnings(\"ignore\")"
   ]
  },
  {
   "cell_type": "markdown",
   "id": "27d0e100-90ac-49c7-b1f1-4cb1ff26dd0b",
   "metadata": {},
   "source": [
    "### Extracting the Zip file"
   ]
  },
  {
   "cell_type": "code",
   "execution_count": 2,
   "id": "48b24d1e-efee-4ccf-b862-765fb2028a7f",
   "metadata": {},
   "outputs": [],
   "source": [
    "raw_file_path = '/home/vibhav911/Documents/DS_Projects/NLP/language-identification/data/language-audio-data.zip'\n",
    "target_dir = \"/home/vibhav911/Documents/DS_Projects/NLP/language-identification/data/final_data\"\n",
    "os.makedirs(target_dir, exist_ok=True)\n",
    "\n",
    "with zipfile.ZipFile(raw_file_path, \"r\") as zip_f:\n",
    "    zip_f.extractall(target_dir)"
   ]
  },
  {
   "cell_type": "markdown",
   "id": "e19a6ce9-c3fc-492a-ae07-fb77351227cf",
   "metadata": {},
   "source": [
    "### Checking the number of files in each class"
   ]
  },
  {
   "cell_type": "code",
   "execution_count": 3,
   "id": "163df277-85db-4f07-a4ca-3d92a7a66ec8",
   "metadata": {},
   "outputs": [
    {
     "data": {
      "text/plain": [
       "['Kannada', 'Hindi', 'Tamil', 'Telugu']"
      ]
     },
     "execution_count": 3,
     "metadata": {},
     "output_type": "execute_result"
    }
   ],
   "source": [
    "audio_dir1 = os.path.join(target_dir, \"language-audio-data\")\n",
    "os.listdir(audio_dir1)"
   ]
  },
  {
   "cell_type": "code",
   "execution_count": 4,
   "id": "32aa739f-5069-4e37-9841-d8fd0b6659e0",
   "metadata": {},
   "outputs": [
    {
     "name": "stdout",
     "output_type": "stream",
     "text": [
      "No of .wav files in audio Kannada folder = 2242\n",
      "No of .wav files in audio Hindi folder = 2264\n",
      "No of .wav files in audio Tamil folder = 2267\n",
      "No of .wav files in audio Telugu folder = 2256\n"
     ]
    }
   ],
   "source": [
    "classes = []\n",
    "for i in os.listdir(audio_dir1):\n",
    "    classes.append(i)\n",
    "    class_path = audio_dir1 + \"/\" + str(i)\n",
    "    audio_clips = os.listdir(class_path)\n",
    "    print(f\"No of .wav files in audio {i} folder =\", len(audio_clips) )"
   ]
  },
  {
   "cell_type": "markdown",
   "id": "6edb4aec-4c0c-4ac2-b9fe-c99dfdea9ac2",
   "metadata": {},
   "source": [
    "### To convert MP3 to wave"
   ]
  },
  {
   "cell_type": "code",
   "execution_count": 5,
   "id": "187d5afb-b1a2-4c7f-aa97-69b0353b5003",
   "metadata": {},
   "outputs": [
    {
     "data": {
      "text/plain": [
       "'om os import path\\nfrom pydub import AudioSegment\\n\\nos.makedirs(\"final_wav\", exist_ok=True)\\n\\nfor folder in os.listdir(audio_dir1):\\n    class_path = audio_dir1 + \"/\" + str(folder)\\n    for count, files in enumerate(os.listdir(class_path)):\\n        src = f\\'{audio_dir1}/{folder}/{files}\\'\\n        file_name = f\"{folder}-{str(count)}.wav\"\\n        dst = f\"final_wav/{folder}\"\\n        os.makedirs(dst, exist_ok=True)\\n        dst = f\"final_wav/{folder}/{file_name}\"\\n        sound = AudioSegment.from_mp3(src)\\n        sound.export(dst, format=\"wav\")\\n'"
      ]
     },
     "execution_count": 5,
     "metadata": {},
     "output_type": "execute_result"
    }
   ],
   "source": [
    "'''om os import path\n",
    "from pydub import AudioSegment\n",
    "\n",
    "os.makedirs(\"final_wav\", exist_ok=True)\n",
    "\n",
    "for folder in os.listdir(audio_dir1):\n",
    "    class_path = audio_dir1 + \"/\" + str(folder)\n",
    "    for count, files in enumerate(os.listdir(class_path)):\n",
    "        src = f'{audio_dir1}/{folder}/{files}'\n",
    "        file_name = f\"{folder}-{str(count)}.wav\"\n",
    "        dst = f\"final_wav/{folder}\"\n",
    "        os.makedirs(dst, exist_ok=True)\n",
    "        dst = f\"final_wav/{folder}/{file_name}\"\n",
    "        sound = AudioSegment.from_mp3(src)\n",
    "        sound.export(dst, format=\"wav\")\n",
    "'''    "
   ]
  },
  {
   "cell_type": "markdown",
   "id": "a39ffc86-b0f6-426a-b516-f7515e5592a7",
   "metadata": {},
   "source": [
    "### Rename the files"
   ]
  },
  {
   "cell_type": "code",
   "execution_count": 6,
   "id": "b18810d7-d429-45b3-aaf2-78e3b80b0ee8",
   "metadata": {},
   "outputs": [],
   "source": [
    "# rename the files so that there are no duplicates while loading the data\n",
    "for folder in os.listdir(audio_dir1):\n",
    "    class_path = audio_dir1 + '/' + str(folder)\n",
    "    for count, files in enumerate(os.listdir(class_path)):\n",
    "        try:\n",
    "            dst = f\"{folder}1-{str(count)}.wav\"\n",
    "            src = f\"{audio_dir1}/{folder}/{files}\"\n",
    "            dst = f\"{audio_dir1}/{folder}/{dst}\"\n",
    "            os.rename(src, dst)\n",
    "        except FileExistsError:\n",
    "            pass"
   ]
  },
  {
   "cell_type": "markdown",
   "id": "5ff0114d-f14e-4604-b649-e805843b39d7",
   "metadata": {},
   "source": [
    "### Create Metadata for your dataset"
   ]
  },
  {
   "cell_type": "code",
   "execution_count": 7,
   "id": "5695f6e5-632e-48bb-bb69-4c7ee9caba33",
   "metadata": {},
   "outputs": [
    {
     "data": {
      "text/html": [
       "<div>\n",
       "<style scoped>\n",
       "    .dataframe tbody tr th:only-of-type {\n",
       "        vertical-align: middle;\n",
       "    }\n",
       "\n",
       "    .dataframe tbody tr th {\n",
       "        vertical-align: top;\n",
       "    }\n",
       "\n",
       "    .dataframe thead th {\n",
       "        text-align: right;\n",
       "    }\n",
       "</style>\n",
       "<table border=\"1\" class=\"dataframe\">\n",
       "  <thead>\n",
       "    <tr style=\"text-align: right;\">\n",
       "      <th></th>\n",
       "      <th>filename</th>\n",
       "      <th>foldername</th>\n",
       "      <th>labels</th>\n",
       "    </tr>\n",
       "  </thead>\n",
       "  <tbody>\n",
       "    <tr>\n",
       "      <th>2255</th>\n",
       "      <td>Hindi1-38.wav</td>\n",
       "      <td>Hindi</td>\n",
       "      <td>0</td>\n",
       "    </tr>\n",
       "    <tr>\n",
       "      <th>2384</th>\n",
       "      <td>Hindi1-121.wav</td>\n",
       "      <td>Hindi</td>\n",
       "      <td>0</td>\n",
       "    </tr>\n",
       "    <tr>\n",
       "      <th>2385</th>\n",
       "      <td>Hindi1-103.wav</td>\n",
       "      <td>Hindi</td>\n",
       "      <td>0</td>\n",
       "    </tr>\n",
       "    <tr>\n",
       "      <th>2386</th>\n",
       "      <td>Hindi1-928.wav</td>\n",
       "      <td>Hindi</td>\n",
       "      <td>0</td>\n",
       "    </tr>\n",
       "    <tr>\n",
       "      <th>2387</th>\n",
       "      <td>Hindi1-963.wav</td>\n",
       "      <td>Hindi</td>\n",
       "      <td>0</td>\n",
       "    </tr>\n",
       "    <tr>\n",
       "      <th>...</th>\n",
       "      <td>...</td>\n",
       "      <td>...</td>\n",
       "      <td>...</td>\n",
       "    </tr>\n",
       "    <tr>\n",
       "      <th>6018</th>\n",
       "      <td>Telugu1-990.wav</td>\n",
       "      <td>Telugu</td>\n",
       "      <td>3</td>\n",
       "    </tr>\n",
       "    <tr>\n",
       "      <th>6017</th>\n",
       "      <td>Telugu1-1850.wav</td>\n",
       "      <td>Telugu</td>\n",
       "      <td>3</td>\n",
       "    </tr>\n",
       "    <tr>\n",
       "      <th>6016</th>\n",
       "      <td>Telugu1-1883.wav</td>\n",
       "      <td>Telugu</td>\n",
       "      <td>3</td>\n",
       "    </tr>\n",
       "    <tr>\n",
       "      <th>6098</th>\n",
       "      <td>Telugu1-1645.wav</td>\n",
       "      <td>Telugu</td>\n",
       "      <td>3</td>\n",
       "    </tr>\n",
       "    <tr>\n",
       "      <th>7222</th>\n",
       "      <td>Telugu1-667.wav</td>\n",
       "      <td>Telugu</td>\n",
       "      <td>3</td>\n",
       "    </tr>\n",
       "  </tbody>\n",
       "</table>\n",
       "<p>7223 rows × 3 columns</p>\n",
       "</div>"
      ],
      "text/plain": [
       "              filename foldername  labels\n",
       "2255     Hindi1-38.wav      Hindi       0\n",
       "2384    Hindi1-121.wav      Hindi       0\n",
       "2385    Hindi1-103.wav      Hindi       0\n",
       "2386    Hindi1-928.wav      Hindi       0\n",
       "2387    Hindi1-963.wav      Hindi       0\n",
       "...                ...        ...     ...\n",
       "6018   Telugu1-990.wav     Telugu       3\n",
       "6017  Telugu1-1850.wav     Telugu       3\n",
       "6016  Telugu1-1883.wav     Telugu       3\n",
       "6098  Telugu1-1645.wav     Telugu       3\n",
       "7222   Telugu1-667.wav     Telugu       3\n",
       "\n",
       "[7223 rows x 3 columns]"
      ]
     },
     "execution_count": 7,
     "metadata": {},
     "output_type": "execute_result"
    }
   ],
   "source": [
    "wav_dir = \"/home/vibhav911/Documents/DS_Projects/NLP/language-identification/data/final_data/language-audio-data\"\n",
    "\n",
    "metadata = {}\n",
    "for label in os.listdir(wav_dir):\n",
    "    class_path = wav_dir + '/' + str(label)\n",
    "    audio_clips = os.listdir(class_path)\n",
    "    for filename in audio_clips:\n",
    "        metadata[filename] = label\n",
    "\n",
    "# Create a metadata csv file\n",
    "metadata = pd.DataFrame.from_dict(metadata, orient=\"index\").reset_index().sort_values(by=0)\n",
    "metadata.columns = ['filename', 'foldername']\n",
    "le = preprocessing.LabelEncoder()\n",
    "metadata['labels'] = le.fit_transform(metadata.foldername)\n",
    "metadata.to_csv(\"/home/vibhav911/Documents/DS_Projects/NLP/language-identification/data/metadata.csv\", index=False)\n",
    "metadata"
   ]
  },
  {
   "cell_type": "markdown",
   "id": "7d6da5fb-d3b6-4d53-a8f0-1bd2fc860828",
   "metadata": {},
   "source": [
    "### Check the mappings"
   ]
  },
  {
   "cell_type": "code",
   "execution_count": 8,
   "id": "9e6830ba-bc64-47a4-85b1-1d36ebdd09e0",
   "metadata": {},
   "outputs": [
    {
     "name": "stdout",
     "output_type": "stream",
     "text": [
      "{'Hindi': 0, 'Kannada': 1, 'Tamil': 2, 'Telugu': 3}\n"
     ]
    }
   ],
   "source": [
    "le_name_mapping = dict(zip(le.classes_, le.transform(le.classes_)))\n",
    "print(le_name_mapping)"
   ]
  },
  {
   "cell_type": "markdown",
   "id": "83189366-7af9-4825-939e-2bb1f86b3500",
   "metadata": {},
   "source": [
    "### Custom Pytorch Dataset"
   ]
  },
  {
   "cell_type": "code",
   "execution_count": 9,
   "id": "4c3e471f-dfd9-4629-bca6-1e9cfeeb8fe5",
   "metadata": {},
   "outputs": [],
   "source": [
    "# IMporting libraries\n",
    "import torch\n",
    "from torch.utils.data import Dataset\n",
    "import torchaudio\n",
    "import pandas as pd"
   ]
  },
  {
   "cell_type": "code",
   "execution_count": 10,
   "id": "12783829-d32f-4502-a6f1-2d917811991a",
   "metadata": {},
   "outputs": [],
   "source": [
    "class IndianLanguageDataset(Dataset):\n",
    "  def __init__(self, metadata, audio_dir, target_sample_rate, num_samples, transformation):\n",
    "    self.annotations = pd.read_csv(metadata)\n",
    "    self.audio_dir = audio_dir\n",
    "    self.target_sample_rate = target_sample_rate\n",
    "    self.num_samples = num_samples\n",
    "    self.transformation = transformation\n",
    "    \n",
    "  def __len__(self):\n",
    "    return len(self.annotations)\n",
    "\n",
    "  def __getitem__(self,idx):\n",
    "    audio_sample_path = self._get_audio_sample_path(idx)\n",
    "    label = self._get_audio_sample_label(idx)\n",
    "    signal, sample_rate = torchaudio.load(audio_sample_path)\n",
    "    signal = self.resample_audio(signal, sample_rate)\n",
    "    signal = self.mix_down_channels(signal)\n",
    "    signal = self.cut_if_needed(signal)\n",
    "    signal = self.right_padding(signal)\n",
    "    signal = self.transformation(signal)\n",
    "    return signal , label\n",
    "  \n",
    "  def _get_audio_sample_path(self,idx):\n",
    "    class_name = f\"{self.annotations.iloc[idx, 1]}\"\n",
    "    path = os.path.join(self.audio_dir, class_name, self.annotations.iloc[idx, 0])\n",
    "    return path\n",
    "  \n",
    "  def _get_audio_sample_label(self, idx):\n",
    "    return self.annotations.iloc[idx, 2]\n",
    "  \n",
    "  def resample_audio(self, signal, sample_rate):\n",
    "    if sample_rate != self.target_sample_rate:\n",
    "        resampler = torchaudio.transforms.Resample(sample_rate, self.target_sample_rate)\n",
    "        signal = resampler(signal)\n",
    "    return signal\n",
    "  \n",
    "  def mix_down_channels(self, signal):\n",
    "    if signal.shape[0] > 1:\n",
    "        signal = torch.mean(signal, dim = 0, keepdim=True)\n",
    "    return signal\n",
    "  \n",
    "  def cut_if_needed(self, signal):\n",
    "    if signal.shape[1] > self.num_samples:\n",
    "        signal = signal[:, :self.num_samples]\n",
    "    return signal \n",
    "  \n",
    "  def right_padding(self, signal):\n",
    "    length_signal = signal.shape[1]\n",
    "    if length_signal < self.num_samples:\n",
    "        num_missing = self.num_samples - length_signal\n",
    "        last_dim_padding = (0, num_missing)\n",
    "        signal = torch.nn.functional.pad(signal, last_dim_padding)\n",
    "    return signal"
   ]
  },
  {
   "cell_type": "code",
   "execution_count": 11,
   "id": "3baf2f52-0c8a-4cb4-9843-ed278f953af2",
   "metadata": {},
   "outputs": [],
   "source": [
    "signal, sample_rate = torchaudio.load('/home/vibhav911/Documents/DS_Projects/NLP/language-identification/data/final_data/language-audio-data/Hindi/Hindi1-79.wav')"
   ]
  },
  {
   "cell_type": "code",
   "execution_count": 12,
   "id": "f83e0484-b0bf-41ef-9866-85ee09049c0e",
   "metadata": {},
   "outputs": [
    {
     "data": {
      "text/plain": [
       "torch.Size([2, 239087])"
      ]
     },
     "execution_count": 12,
     "metadata": {},
     "output_type": "execute_result"
    }
   ],
   "source": [
    "signal.shape"
   ]
  },
  {
   "cell_type": "code",
   "execution_count": 13,
   "id": "88c69d16-acb9-4a9a-b93b-36206de69354",
   "metadata": {},
   "outputs": [],
   "source": [
    "# Create MEL spectogram transformation\n",
    "SAMPLE_RATE = 48000\n",
    "NUM_SAMPLES = 240000\n",
    "\n",
    "mel_spectogram = torchaudio.transforms.MelSpectrogram(sample_rate=SAMPLE_RATE)"
   ]
  },
  {
   "cell_type": "markdown",
   "id": "55643ee1-5abd-496f-a831-1c6db1aefa08",
   "metadata": {},
   "source": [
    "### Test Custom Dataset"
   ]
  },
  {
   "cell_type": "code",
   "execution_count": 14,
   "id": "38060ebb-a1bf-40ce-996e-38242dac134c",
   "metadata": {},
   "outputs": [
    {
     "name": "stdout",
     "output_type": "stream",
     "text": [
      "there are 7223 samples in the dataset\n"
     ]
    }
   ],
   "source": [
    "ild = IndianLanguageDataset(metadata=\"/home/vibhav911/Documents/DS_Projects/NLP/language-identification/data/metadata.csv\",\n",
    "                            audio_dir= wav_dir,\n",
    "                            target_sample_rate=SAMPLE_RATE,\n",
    "                            transformation=mel_spectogram,\n",
    "                            num_samples=NUM_SAMPLES)\n",
    "print(f\"there are {len(ild)} samples in the dataset\")"
   ]
  },
  {
   "cell_type": "code",
   "execution_count": 15,
   "id": "b2c17721-5eab-431c-93eb-405f11e37b78",
   "metadata": {},
   "outputs": [],
   "source": [
    "specgram, label = ild[14]"
   ]
  },
  {
   "cell_type": "code",
   "execution_count": 16,
   "id": "c1ca7f6e-2d6f-4603-b1ce-3d068560ee29",
   "metadata": {},
   "outputs": [
    {
     "name": "stdout",
     "output_type": "stream",
     "text": [
      "signal: torch.Size([1, 128, 1201]) \n",
      " label: 0\n"
     ]
    }
   ],
   "source": [
    "print(f\"signal: {specgram.shape} \\n label: {label}\")"
   ]
  },
  {
   "cell_type": "code",
   "execution_count": 17,
   "id": "383fb2a9-c379-4c35-8633-4e3f7ad6e0ab",
   "metadata": {},
   "outputs": [
    {
     "data": {
      "text/plain": [
       "torch.Size([128, 1201])"
      ]
     },
     "execution_count": 17,
     "metadata": {},
     "output_type": "execute_result"
    }
   ],
   "source": [
    "b = specgram.squeeze()\n",
    "b.shape"
   ]
  },
  {
   "cell_type": "markdown",
   "id": "43d3bd83-039e-4aa0-9a6f-cbd115e3db47",
   "metadata": {},
   "source": [
    "### Visualize the Spectrogram"
   ]
  },
  {
   "cell_type": "code",
   "execution_count": null,
   "id": "4f4d850e",
   "metadata": {},
   "outputs": [
    {
     "name": "stdout",
     "output_type": "stream",
     "text": [
      "Requirement already satisfied: matplotlib in /home/vibhav911/.pyenv/versions/3.10.14/lib/python3.10/site-packages (3.8.4)\n",
      "Requirement already satisfied: contourpy>=1.0.1 in /home/vibhav911/.pyenv/versions/3.10.14/lib/python3.10/site-packages (from matplotlib) (1.2.1)\n",
      "Requirement already satisfied: cycler>=0.10 in /home/vibhav911/.pyenv/versions/3.10.14/lib/python3.10/site-packages (from matplotlib) (0.12.1)\n",
      "Requirement already satisfied: fonttools>=4.22.0 in /home/vibhav911/.pyenv/versions/3.10.14/lib/python3.10/site-packages (from matplotlib) (4.51.0)\n",
      "Requirement already satisfied: kiwisolver>=1.3.1 in /home/vibhav911/.pyenv/versions/3.10.14/lib/python3.10/site-packages (from matplotlib) (1.4.5)\n",
      "Requirement already satisfied: numpy>=1.21 in /home/vibhav911/.pyenv/versions/3.10.14/lib/python3.10/site-packages (from matplotlib) (1.26.4)\n",
      "Requirement already satisfied: packaging>=20.0 in /home/vibhav911/.pyenv/versions/3.10.14/lib/python3.10/site-packages (from matplotlib) (24.0)\n",
      "Requirement already satisfied: pillow>=8 in /home/vibhav911/.pyenv/versions/3.10.14/lib/python3.10/site-packages (from matplotlib) (10.3.0)\n",
      "Requirement already satisfied: pyparsing>=2.3.1 in /home/vibhav911/.pyenv/versions/3.10.14/lib/python3.10/site-packages (from matplotlib) (3.1.2)\n",
      "Requirement already satisfied: python-dateutil>=2.7 in /home/vibhav911/.pyenv/versions/3.10.14/lib/python3.10/site-packages (from matplotlib) (2.9.0.post0)\n",
      "Requirement already satisfied: six>=1.5 in /home/vibhav911/.pyenv/versions/3.10.14/lib/python3.10/site-packages (from python-dateutil>=2.7->matplotlib) (1.16.0)\n",
      "\n",
      "\u001b[1m[\u001b[0m\u001b[34;49mnotice\u001b[0m\u001b[1;39;49m]\u001b[0m\u001b[39;49m A new release of pip is available: \u001b[0m\u001b[31;49m24.1.2\u001b[0m\u001b[39;49m -> \u001b[0m\u001b[32;49m24.3.1\u001b[0m\n",
      "\u001b[1m[\u001b[0m\u001b[34;49mnotice\u001b[0m\u001b[1;39;49m]\u001b[0m\u001b[39;49m To update, run: \u001b[0m\u001b[32;49mpip install --upgrade pip\u001b[0m\n"
     ]
    }
   ],
   "source": [
    "# !pip install matplotlib"
   ]
  },
  {
   "cell_type": "code",
   "execution_count": 19,
   "id": "12ca1efa-9076-4c5a-9aec-6224ba712bb6",
   "metadata": {},
   "outputs": [],
   "source": [
    "import matplotlib.pyplot as plt\n",
    "from IPython.display import Audio\n",
    "\n",
    "def plot_spectrogram(specgram, title=None, ylabel = \"freq_bin\"):\n",
    "    fig, axs = plt.subplots(1, 1)\n",
    "    axs.set_title(title or \"Spectrogram (db)\")\n",
    "    axs.set_ylabel(ylabel)\n",
    "    axs.set_xlabel(\"frame\")\n",
    "    im = axs.imshow(specgram.squeeze(), origin='lower', aspect=\"auto\")\n",
    "    fig.colorbar(im, ax=axs)\n",
    "    plt.show(block=False)"
   ]
  },
  {
   "cell_type": "code",
   "execution_count": 20,
   "id": "8fcce631-ca4a-4084-b5cc-1875eee00d2f",
   "metadata": {},
   "outputs": [
    {
     "data": {
      "image/png": "[encoded data removed]",
      "text/plain": [
       "<Figure size 640x480 with 2 Axes>"
      ]
     },
     "metadata": {},
     "output_type": "display_data"
    }
   ],
   "source": [
    "plot_spectrogram(specgram, title=\"MelSpectrogram\")"
   ]
  },
  {
   "cell_type": "code",
   "execution_count": 21,
   "id": "4df8eeb4-4931-4f0e-ac6d-b8c3ac46c430",
   "metadata": {},
   "outputs": [],
   "source": [
    "sample_data, sample_rate = torchaudio.load('/home/vibhav911/Documents/DS_Projects/NLP/language-identification/data/final_data/language-audio-data/Hindi/Hindi1-79.wav')"
   ]
  },
  {
   "cell_type": "code",
   "execution_count": 22,
   "id": "6a3e8e16-e002-498f-b3cf-3f4d1b5bd114",
   "metadata": {},
   "outputs": [
    {
     "data": {
      "text/plain": [
       "torch.Size([2, 239087])"
      ]
     },
     "execution_count": 22,
     "metadata": {},
     "output_type": "execute_result"
    }
   ],
   "source": [
    "sample_data.shape"
   ]
  },
  {
   "cell_type": "markdown",
   "id": "7a2aba87-ff28-4b66-ad34-a7c6f7164aaf",
   "metadata": {},
   "source": [
    "## CNN Model"
   ]
  },
  {
   "cell_type": "code",
   "execution_count": 23,
   "id": "36c7dc5f-807f-4c6e-ac15-f12d2b224d70",
   "metadata": {},
   "outputs": [],
   "source": [
    "import torch.nn as nn\n",
    "from torch.utils.data import DataLoader\n",
    "import torch.nn.functional as F\n",
    "from torchsummary import summary\n",
    "\n",
    "class ImageClassification(nn.Module):\n",
    "    def training_step(self, batch):\n",
    "        images, labels = batch\n",
    "        out = self(images)                  # Generate predictions\n",
    "        loss = F.cross_entropy(out, labels) # Calculate loss\n",
    "        return loss\n",
    "\n",
    "    \n",
    "    def validation_step(self, batch):\n",
    "        images, labels = batch\n",
    "        out = self(images)                  # Generate predictions\n",
    "        loss = F.cross_entropy(out, labels) # Calculate loss\n",
    "        acc = accuracy(out, labels)         # Calculate accuracy\n",
    "        return {\"val_loss\": loss.detach(), \"val_acc\": acc}\n",
    "\n",
    "    def validation_epoch_end(self, outputs):\n",
    "        batch_losses = [x['val_loss'] for x in outputs]\n",
    "        epoch_loss = torch.stack(batch_losses).mean()   # Combine losses\n",
    "        batch_accs = [x['val_acc'] for x in outputs]\n",
    "        epoch_acc = torch.stack(batch_accs).mean()      # Combine accuracy\n",
    "        return {'val_loss': epoch_loss.item(), \"val_acc\": epoch_acc.item()}\n",
    "\n",
    "    def epoch_end(self, epoch, result):\n",
    "        print(\"Epoch [{}], train_loss: {:.4f}, val_loss: {:.4f}, val_acc: {:.4f}\".format(\n",
    "            epoch, result['train_loss'], result['val_loss'], result['val_acc']))\n",
    "\n",
    "def accuracy(outputs, labels):\n",
    "        _, preds = torch.max(outputs, dim=1)\n",
    "        return torch.tensor(torch.sum(preds == labels).item()/len(preds))\n",
    "        \n",
    "    "
   ]
  },
  {
   "cell_type": "markdown",
   "id": "1356540f-d908-4e0f-9316-7771bf79de92",
   "metadata": {},
   "source": [
    "### Model Architecture"
   ]
  },
  {
   "cell_type": "code",
   "execution_count": 24,
   "id": "b789c514-f040-4e1a-913c-02ddaefe4e91",
   "metadata": {},
   "outputs": [],
   "source": [
    "class CNNNetwork(ImageClassification):\n",
    "    def __init__(self, in_channels, num_classes):\n",
    "        super().__init__()\n",
    "        self.conv1 = self.conv_block(in_channels, 16, pool=True)\n",
    "        self.conv2 = self.conv_block(16, 32, pool=True)\n",
    "        self.conv3 = self.conv_block(32, 64, pool=True)\n",
    "        self.conv4 = self.conv_block(64, 128, pool=True)\n",
    "        self.flatten = nn.Flatten()\n",
    "        self.linear = nn.Linear(64*12*12, num_classes)\n",
    "        self.relu = nn.ReLU(inplace=True)\n",
    "        self.softmax = nn.Softmax(dim=1)\n",
    "\n",
    "    @staticmethod\n",
    "    def conv_block(in_channels, out_channels, pool=False):\n",
    "        layers = [nn.Conv2d(in_channels, out_channels, kernel_size=3, stride=1, padding=2),\n",
    "                  nn.BatchNorm2d(out_channels),\n",
    "                  nn.ReLU(inplace=True)]\n",
    "        if pool: layers.append(nn.MaxPool2d(kernel_size=2))\n",
    "        return nn.Sequential(*layers)\n",
    "\n",
    "    def forward(self, input_data):\n",
    "        out = self.conv1(input_data)\n",
    "        out = self.conv2(out)\n",
    "        out = self.conv3(out)\n",
    "        out = self.conv4(out)\n",
    "        out = self.flatten(out)\n",
    "        logits = self.linear(out)\n",
    "        logits = self.relu(logits)\n",
    "        predictions = self.softmax(logits)\n",
    "        return predictions"
   ]
  },
  {
   "cell_type": "code",
   "execution_count": 25,
   "id": "8c35a993-7148-45a3-9884-7b7a575ad58a",
   "metadata": {},
   "outputs": [],
   "source": [
    "cnn = CNNNetwork(in_channels = 1, num_classes = 4)"
   ]
  },
  {
   "cell_type": "code",
   "execution_count": 26,
   "id": "f7b1284d-2135-439c-a392-aea92408be9b",
   "metadata": {
    "scrolled": true
   },
   "outputs": [],
   "source": [
    "#summary(cnn.cuda(), (1,62,40))"
   ]
  },
  {
   "cell_type": "markdown",
   "id": "87795a58-c7f2-4371-9591-daaf11bdac9d",
   "metadata": {},
   "source": [
    "### GPU Functions"
   ]
  },
  {
   "cell_type": "code",
   "execution_count": 27,
   "id": "bd59c3a8-f762-4c34-9de6-ec4d2ba15de7",
   "metadata": {},
   "outputs": [],
   "source": [
    "def get_default_device():\n",
    "    \"\"\" Pick GPU if available, else CPU \"\"\"\n",
    "    if torch.cuda.is_available():\n",
    "        return torch.device('cuda')\n",
    "    else:\n",
    "        return torch.device('cpu')\n",
    "\n",
    "def to_device(data, device):\n",
    "    \"\"\" Move tensor(s) to chosen device \"\"\"\n",
    "    if isinstance(data, (list,tuple)):\n",
    "        return [to_device(x, device) for x in data]\n",
    "    return data.to(device, non_blocking=True)\n",
    "\n",
    "class GPUDataLoader():\n",
    "    \"\"\" Wrap a pytorch Dataloader to move data to a device \"\"\"\n",
    "    def __init__(self, dl, device):\n",
    "        self.dl = dl\n",
    "        self.device = device\n",
    "\n",
    "    def __iter__(self):\n",
    "        \"\"\" Yield a batch of data after moving it to device \"\"\"\n",
    "        for b in self.dl:\n",
    "            yield to_device(b, self.device)\n",
    "\n",
    "    def __len__(self):\n",
    "        \"\"\" Number of batches \"\"\"\n",
    "        return len(self.dl)"
   ]
  },
  {
   "cell_type": "markdown",
   "id": "9fe81d4c-ea83-43a7-86be-36926249a6e7",
   "metadata": {},
   "source": [
    "### Training Function"
   ]
  },
  {
   "cell_type": "code",
   "execution_count": 28,
   "id": "8a745c2d-6ae8-444b-a7aa-0f0a8840e40b",
   "metadata": {},
   "outputs": [],
   "source": [
    "from torch.optim.lr_scheduler import MultiStepLR\n",
    "from tqdm import tqdm\n",
    "\n",
    "@torch.no_grad()\n",
    "def evaluate(model, val_loader):\n",
    "    model.eval()\n",
    "    outputs = [model.validation_step(batch) for batch in val_loader]\n",
    "    return model.validation_epoch_end(outputs)\n",
    "\n",
    "def fit(model, train_loader, val_loader, epochs, lr, opt_func):\n",
    "    history = []\n",
    "    optimizer = opt_func(model.parameters(), lr)\n",
    "    scheduler = MultiStepLR(optimizer=optimizer,\n",
    "                            milestones=[500],\n",
    "                            gamma=0.1)\n",
    "    for epoch in range(1, epochs+1):\n",
    "        # Training\n",
    "        print(\"Epoch:\", epoch, \"LR:\", scheduler.get_last_lr())\n",
    "        train_losses = []\n",
    "        model.train()\n",
    "        loop = tqdm(enumerate(train_loader), total=len(train_loader), leave=False)\n",
    "        for batch_idx, batch in loop:\n",
    "            loss = model.training_step(batch)\n",
    "            train_losses.append(loss)\n",
    "\n",
    "            # Backward\n",
    "            optimizer.zero_grad()\n",
    "            loss.backward()\n",
    "\n",
    "            # gradient descent\n",
    "            optimizer.step()\n",
    "            scheduler.step()\n",
    "\n",
    "            # update progress bar\n",
    "            loop.set_description(f\"Epoch [{epoch}/{epochs}]\")\n",
    "            loop.set_postfix(loss = loss.item())\n",
    "\n",
    "        # validation steps\n",
    "        result = evaluate(model, val_loader)\n",
    "        result['train_loss'] = torch.stack(train_losses).mean().item()\n",
    "        model.epoch_end(epoch, result)\n",
    "        history.append(result)\n",
    "    return history"
   ]
  },
  {
   "cell_type": "markdown",
   "id": "e64e75b4-958a-4b3b-ad8d-562d0b17397a",
   "metadata": {},
   "source": [
    "### Make Stratified split of data to have same number of samples per each class"
   ]
  },
  {
   "cell_type": "code",
   "execution_count": 29,
   "id": "2d40478f-5748-4675-aa77-98f85565b5a4",
   "metadata": {},
   "outputs": [],
   "source": [
    "from sklearn.model_selection import StratifiedShuffleSplit\n",
    "\n",
    "split = StratifiedShuffleSplit(n_splits=5, train_size=0.7, test_size=0.3, random_state=36)\n",
    "for train_index, test_index in split.split(metadata, metadata['labels']):\n",
    "    strat_train_set = metadata.loc[train_index]\n",
    "    strat_val_set = metadata.loc[test_index]\n",
    "\n",
    "strat_train_set.to_csv(\"/home/vibhav911/Documents/DS_Projects/NLP/language-identification/data/metadata_train.csv\", index=False)\n",
    "strat_val_set.to_csv(\"/home/vibhav911/Documents/DS_Projects/NLP/language-identification/data/metadata_val.csv\", index=False)"
   ]
  },
  {
   "cell_type": "code",
   "execution_count": 30,
   "id": "89c7a134-b127-49cc-821d-df89e31c02a6",
   "metadata": {},
   "outputs": [
    {
     "data": {
      "text/plain": [
       "'NVIDIA GeForce GTX 1650'"
      ]
     },
     "execution_count": 30,
     "metadata": {},
     "output_type": "execute_result"
    }
   ],
   "source": [
    "torch.cuda.get_device_name()"
   ]
  },
  {
   "cell_type": "markdown",
   "id": "ca4ed0e3-ac9b-4f47-a86c-54e430c268a1",
   "metadata": {},
   "source": [
    "### Move model objects to GPU\n",
    "#### dataloader, model -> GPU"
   ]
  },
  {
   "cell_type": "code",
   "execution_count": 31,
   "id": "df14ab8d-a5ca-482e-8e67-04152af0f27a",
   "metadata": {},
   "outputs": [],
   "source": [
    "BATCH_SIZE = 64\n",
    "SAMPLE_RATE = 4000\n",
    "NUM_SAMPLES = 20000\n",
    "\n",
    "mel_spectrogram = torchaudio.transforms.MelSpectrogram(sample_rate=SAMPLE_RATE,\n",
    "                                                       n_fft = 1024,\n",
    "                                                       hop_length= 512,\n",
    "                                                       n_mels = 64)\n",
    "\n",
    "# Adam Optimiser\n",
    "optimiser = torch.optim.Adam\n",
    "\n",
    "train_lang_data = IndianLanguageDataset(metadata = \"/home/vibhav911/Documents/DS_Projects/NLP/language-identification/data/metadata_train.csv\",\n",
    "                                        audio_dir=wav_dir,\n",
    "                                        target_sample_rate=SAMPLE_RATE,\n",
    "                                        transformation= mel_spectogram,\n",
    "                                        num_samples= NUM_SAMPLES)\n",
    "\n",
    "val_lang_data = IndianLanguageDataset(metadata = \"/home/vibhav911/Documents/DS_Projects/NLP/language-identification/data/metadata_val.csv\",\n",
    "                                      audio_dir=wav_dir,\n",
    "                                      target_sample_rate=SAMPLE_RATE,\n",
    "                                      transformation=mel_spectogram,\n",
    "                                      num_samples=NUM_SAMPLES)\n",
    "\n",
    "train_dl = DataLoader(dataset = train_lang_data,\n",
    "                      batch_size=BATCH_SIZE,\n",
    "                      shuffle=True,\n",
    "                      num_workers=6,\n",
    "                      pin_memory=True)\n",
    "\n",
    "val_dl = DataLoader(dataset=val_lang_data,\n",
    "                    batch_size=BATCH_SIZE,\n",
    "                    num_workers=6,\n",
    "                    pin_memory=True)"
   ]
  },
  {
   "cell_type": "code",
   "execution_count": 32,
   "id": "7b471c25-6599-4ead-aa53-374a4d23cca7",
   "metadata": {},
   "outputs": [
    {
     "data": {
      "text/plain": [
       "device(type='cuda')"
      ]
     },
     "execution_count": 32,
     "metadata": {},
     "output_type": "execute_result"
    }
   ],
   "source": [
    "device = get_default_device()\n",
    "device"
   ]
  },
  {
   "cell_type": "code",
   "execution_count": 33,
   "id": "e99ea403-5f66-4d1c-babc-71308fc24278",
   "metadata": {},
   "outputs": [],
   "source": [
    "# Move model to device\n",
    "#\n",
    "model = to_device(CNNNetwork(1,4), device)\n",
    "\n",
    "train_dl = GPUDataLoader(train_dl, device)\n",
    "val_dl = GPUDataLoader(val_dl, device)"
   ]
  },
  {
   "cell_type": "markdown",
   "id": "ac1c978e-4543-49d0-9fe4-fa06dcecf5a0",
   "metadata": {},
   "source": [
    "### Training the Model"
   ]
  },
  {
   "cell_type": "code",
   "execution_count": 34,
   "id": "8ba1c339-d31e-408e-ae2a-34587143f713",
   "metadata": {
    "scrolled": true
   },
   "outputs": [
    {
     "data": {
      "text/plain": [
       "{'val_loss': 1.431380033493042, 'val_acc': 0.29923129081726074}"
      ]
     },
     "execution_count": 34,
     "metadata": {},
     "output_type": "execute_result"
    }
   ],
   "source": [
    "evaluate(model, val_dl)"
   ]
  },
  {
   "cell_type": "code",
   "execution_count": 36,
   "id": "74c42296-62cb-4a42-b543-ac2b52472c15",
   "metadata": {
    "scrolled": true
   },
   "outputs": [
    {
     "name": "stdout",
     "output_type": "stream",
     "text": [
      "Epoch: 1 LR: [0.0001]\n"
     ]
    },
    {
     "name": "stderr",
     "output_type": "stream",
     "text": [
      "                                                                      \r"
     ]
    },
    {
     "name": "stdout",
     "output_type": "stream",
     "text": [
      "Epoch [1], train_loss: 1.1509, val_loss: 1.1422, val_acc: 0.4876\n",
      "Epoch: 2 LR: [0.0001]\n"
     ]
    },
    {
     "name": "stderr",
     "output_type": "stream",
     "text": [
      "                                                                      \r"
     ]
    },
    {
     "name": "stdout",
     "output_type": "stream",
     "text": [
      "Epoch [2], train_loss: 1.1314, val_loss: 1.1287, val_acc: 0.4927\n",
      "Epoch: 3 LR: [0.0001]\n"
     ]
    },
    {
     "name": "stderr",
     "output_type": "stream",
     "text": [
      "                                                                      \r"
     ]
    },
    {
     "ename": "KeyboardInterrupt",
     "evalue": "",
     "output_type": "error",
     "traceback": [
      "\u001b[0;31m---------------------------------------------------------------------------\u001b[0m",
      "\u001b[0;31mKeyboardInterrupt\u001b[0m                         Traceback (most recent call last)",
      "Cell \u001b[0;32mIn[36], line 1\u001b[0m\n\u001b[0;32m----> 1\u001b[0m history \u001b[38;5;241m=\u001b[39m \u001b[43mfit\u001b[49m\u001b[43m(\u001b[49m\u001b[43mmodel\u001b[49m\u001b[38;5;241;43m=\u001b[39;49m\u001b[43mmodel\u001b[49m\u001b[43m,\u001b[49m\u001b[43m \u001b[49m\u001b[43mtrain_loader\u001b[49m\u001b[38;5;241;43m=\u001b[39;49m\u001b[43mtrain_dl\u001b[49m\u001b[43m,\u001b[49m\u001b[43m \u001b[49m\u001b[43mval_loader\u001b[49m\u001b[38;5;241;43m=\u001b[39;49m\u001b[43mval_dl\u001b[49m\u001b[43m,\u001b[49m\u001b[43m \u001b[49m\u001b[43mepochs\u001b[49m\u001b[38;5;241;43m=\u001b[39;49m\u001b[38;5;241;43m5\u001b[39;49m\u001b[43m,\u001b[49m\u001b[43m \u001b[49m\u001b[43mlr\u001b[49m\u001b[38;5;241;43m=\u001b[39;49m\u001b[38;5;241;43m0.0001\u001b[39;49m\u001b[43m,\u001b[49m\u001b[43m \u001b[49m\u001b[43mopt_func\u001b[49m\u001b[38;5;241;43m=\u001b[39;49m\u001b[43moptimiser\u001b[49m\u001b[43m)\u001b[49m\n",
      "Cell \u001b[0;32mIn[28], line 22\u001b[0m, in \u001b[0;36mfit\u001b[0;34m(model, train_loader, val_loader, epochs, lr, opt_func)\u001b[0m\n\u001b[1;32m     20\u001b[0m model\u001b[38;5;241m.\u001b[39mtrain()\n\u001b[1;32m     21\u001b[0m loop \u001b[38;5;241m=\u001b[39m tqdm(\u001b[38;5;28menumerate\u001b[39m(train_loader), total\u001b[38;5;241m=\u001b[39m\u001b[38;5;28mlen\u001b[39m(train_loader), leave\u001b[38;5;241m=\u001b[39m\u001b[38;5;28;01mFalse\u001b[39;00m)\n\u001b[0;32m---> 22\u001b[0m \u001b[38;5;28;01mfor\u001b[39;00m batch_idx, batch \u001b[38;5;129;01min\u001b[39;00m loop:\n\u001b[1;32m     23\u001b[0m     loss \u001b[38;5;241m=\u001b[39m model\u001b[38;5;241m.\u001b[39mtraining_step(batch)\n\u001b[1;32m     24\u001b[0m     train_losses\u001b[38;5;241m.\u001b[39mappend(loss)\n",
      "File \u001b[0;32m~/Environments/datascience_env/lib/python3.10/site-packages/tqdm/std.py:1181\u001b[0m, in \u001b[0;36mtqdm.__iter__\u001b[0;34m(self)\u001b[0m\n\u001b[1;32m   1178\u001b[0m time \u001b[38;5;241m=\u001b[39m \u001b[38;5;28mself\u001b[39m\u001b[38;5;241m.\u001b[39m_time\n\u001b[1;32m   1180\u001b[0m \u001b[38;5;28;01mtry\u001b[39;00m:\n\u001b[0;32m-> 1181\u001b[0m     \u001b[38;5;28;01mfor\u001b[39;00m obj \u001b[38;5;129;01min\u001b[39;00m iterable:\n\u001b[1;32m   1182\u001b[0m         \u001b[38;5;28;01myield\u001b[39;00m obj\n\u001b[1;32m   1183\u001b[0m         \u001b[38;5;66;03m# Update and possibly print the progressbar.\u001b[39;00m\n\u001b[1;32m   1184\u001b[0m         \u001b[38;5;66;03m# Note: does not call self.update(1) for speed optimisation.\u001b[39;00m\n",
      "Cell \u001b[0;32mIn[27], line 22\u001b[0m, in \u001b[0;36mGPUDataLoader.__iter__\u001b[0;34m(self)\u001b[0m\n\u001b[1;32m     20\u001b[0m \u001b[38;5;28;01mdef\u001b[39;00m \u001b[38;5;21m__iter__\u001b[39m(\u001b[38;5;28mself\u001b[39m):\n\u001b[1;32m     21\u001b[0m \u001b[38;5;250m    \u001b[39m\u001b[38;5;124;03m\"\"\" Yield a batch of data after moving it to device \"\"\"\u001b[39;00m\n\u001b[0;32m---> 22\u001b[0m     \u001b[38;5;28;01mfor\u001b[39;00m b \u001b[38;5;129;01min\u001b[39;00m \u001b[38;5;28mself\u001b[39m\u001b[38;5;241m.\u001b[39mdl:\n\u001b[1;32m     23\u001b[0m         \u001b[38;5;28;01myield\u001b[39;00m to_device(b, \u001b[38;5;28mself\u001b[39m\u001b[38;5;241m.\u001b[39mdevice)\n",
      "File \u001b[0;32m~/Environments/datascience_env/lib/python3.10/site-packages/torch/utils/data/dataloader.py:630\u001b[0m, in \u001b[0;36m_BaseDataLoaderIter.__next__\u001b[0;34m(self)\u001b[0m\n\u001b[1;32m    627\u001b[0m \u001b[38;5;28;01mif\u001b[39;00m \u001b[38;5;28mself\u001b[39m\u001b[38;5;241m.\u001b[39m_sampler_iter \u001b[38;5;129;01mis\u001b[39;00m \u001b[38;5;28;01mNone\u001b[39;00m:\n\u001b[1;32m    628\u001b[0m     \u001b[38;5;66;03m# TODO(https://github.com/pytorch/pytorch/issues/76750)\u001b[39;00m\n\u001b[1;32m    629\u001b[0m     \u001b[38;5;28mself\u001b[39m\u001b[38;5;241m.\u001b[39m_reset()  \u001b[38;5;66;03m# type: ignore[call-arg]\u001b[39;00m\n\u001b[0;32m--> 630\u001b[0m data \u001b[38;5;241m=\u001b[39m \u001b[38;5;28;43mself\u001b[39;49m\u001b[38;5;241;43m.\u001b[39;49m\u001b[43m_next_data\u001b[49m\u001b[43m(\u001b[49m\u001b[43m)\u001b[49m\n\u001b[1;32m    631\u001b[0m \u001b[38;5;28mself\u001b[39m\u001b[38;5;241m.\u001b[39m_num_yielded \u001b[38;5;241m+\u001b[39m\u001b[38;5;241m=\u001b[39m \u001b[38;5;241m1\u001b[39m\n\u001b[1;32m    632\u001b[0m \u001b[38;5;28;01mif\u001b[39;00m \u001b[38;5;28mself\u001b[39m\u001b[38;5;241m.\u001b[39m_dataset_kind \u001b[38;5;241m==\u001b[39m _DatasetKind\u001b[38;5;241m.\u001b[39mIterable \u001b[38;5;129;01mand\u001b[39;00m \\\n\u001b[1;32m    633\u001b[0m         \u001b[38;5;28mself\u001b[39m\u001b[38;5;241m.\u001b[39m_IterableDataset_len_called \u001b[38;5;129;01mis\u001b[39;00m \u001b[38;5;129;01mnot\u001b[39;00m \u001b[38;5;28;01mNone\u001b[39;00m \u001b[38;5;129;01mand\u001b[39;00m \\\n\u001b[1;32m    634\u001b[0m         \u001b[38;5;28mself\u001b[39m\u001b[38;5;241m.\u001b[39m_num_yielded \u001b[38;5;241m>\u001b[39m \u001b[38;5;28mself\u001b[39m\u001b[38;5;241m.\u001b[39m_IterableDataset_len_called:\n",
      "File \u001b[0;32m~/Environments/datascience_env/lib/python3.10/site-packages/torch/utils/data/dataloader.py:1327\u001b[0m, in \u001b[0;36m_MultiProcessingDataLoaderIter._next_data\u001b[0;34m(self)\u001b[0m\n\u001b[1;32m   1324\u001b[0m     \u001b[38;5;28;01mreturn\u001b[39;00m \u001b[38;5;28mself\u001b[39m\u001b[38;5;241m.\u001b[39m_process_data(data)\n\u001b[1;32m   1326\u001b[0m \u001b[38;5;28;01massert\u001b[39;00m \u001b[38;5;129;01mnot\u001b[39;00m \u001b[38;5;28mself\u001b[39m\u001b[38;5;241m.\u001b[39m_shutdown \u001b[38;5;129;01mand\u001b[39;00m \u001b[38;5;28mself\u001b[39m\u001b[38;5;241m.\u001b[39m_tasks_outstanding \u001b[38;5;241m>\u001b[39m \u001b[38;5;241m0\u001b[39m\n\u001b[0;32m-> 1327\u001b[0m idx, data \u001b[38;5;241m=\u001b[39m \u001b[38;5;28;43mself\u001b[39;49m\u001b[38;5;241;43m.\u001b[39;49m\u001b[43m_get_data\u001b[49m\u001b[43m(\u001b[49m\u001b[43m)\u001b[49m\n\u001b[1;32m   1328\u001b[0m \u001b[38;5;28mself\u001b[39m\u001b[38;5;241m.\u001b[39m_tasks_outstanding \u001b[38;5;241m-\u001b[39m\u001b[38;5;241m=\u001b[39m \u001b[38;5;241m1\u001b[39m\n\u001b[1;32m   1329\u001b[0m \u001b[38;5;28;01mif\u001b[39;00m \u001b[38;5;28mself\u001b[39m\u001b[38;5;241m.\u001b[39m_dataset_kind \u001b[38;5;241m==\u001b[39m _DatasetKind\u001b[38;5;241m.\u001b[39mIterable:\n\u001b[1;32m   1330\u001b[0m     \u001b[38;5;66;03m# Check for _IterableDatasetStopIteration\u001b[39;00m\n",
      "File \u001b[0;32m~/Environments/datascience_env/lib/python3.10/site-packages/torch/utils/data/dataloader.py:1283\u001b[0m, in \u001b[0;36m_MultiProcessingDataLoaderIter._get_data\u001b[0;34m(self)\u001b[0m\n\u001b[1;32m   1281\u001b[0m \u001b[38;5;28;01melif\u001b[39;00m \u001b[38;5;28mself\u001b[39m\u001b[38;5;241m.\u001b[39m_pin_memory:\n\u001b[1;32m   1282\u001b[0m     \u001b[38;5;28;01mwhile\u001b[39;00m \u001b[38;5;28mself\u001b[39m\u001b[38;5;241m.\u001b[39m_pin_memory_thread\u001b[38;5;241m.\u001b[39mis_alive():\n\u001b[0;32m-> 1283\u001b[0m         success, data \u001b[38;5;241m=\u001b[39m \u001b[38;5;28;43mself\u001b[39;49m\u001b[38;5;241;43m.\u001b[39;49m\u001b[43m_try_get_data\u001b[49m\u001b[43m(\u001b[49m\u001b[43m)\u001b[49m\n\u001b[1;32m   1284\u001b[0m         \u001b[38;5;28;01mif\u001b[39;00m success:\n\u001b[1;32m   1285\u001b[0m             \u001b[38;5;28;01mreturn\u001b[39;00m data\n",
      "File \u001b[0;32m~/Environments/datascience_env/lib/python3.10/site-packages/torch/utils/data/dataloader.py:1131\u001b[0m, in \u001b[0;36m_MultiProcessingDataLoaderIter._try_get_data\u001b[0;34m(self, timeout)\u001b[0m\n\u001b[1;32m   1118\u001b[0m \u001b[38;5;28;01mdef\u001b[39;00m \u001b[38;5;21m_try_get_data\u001b[39m(\u001b[38;5;28mself\u001b[39m, timeout\u001b[38;5;241m=\u001b[39m_utils\u001b[38;5;241m.\u001b[39mMP_STATUS_CHECK_INTERVAL):\n\u001b[1;32m   1119\u001b[0m     \u001b[38;5;66;03m# Tries to fetch data from `self._data_queue` once for a given timeout.\u001b[39;00m\n\u001b[1;32m   1120\u001b[0m     \u001b[38;5;66;03m# This can also be used as inner loop of fetching without timeout, with\u001b[39;00m\n\u001b[0;32m   (...)\u001b[0m\n\u001b[1;32m   1128\u001b[0m     \u001b[38;5;66;03m# Returns a 2-tuple:\u001b[39;00m\n\u001b[1;32m   1129\u001b[0m     \u001b[38;5;66;03m#   (bool: whether successfully get data, any: data if successful else None)\u001b[39;00m\n\u001b[1;32m   1130\u001b[0m     \u001b[38;5;28;01mtry\u001b[39;00m:\n\u001b[0;32m-> 1131\u001b[0m         data \u001b[38;5;241m=\u001b[39m \u001b[38;5;28;43mself\u001b[39;49m\u001b[38;5;241;43m.\u001b[39;49m\u001b[43m_data_queue\u001b[49m\u001b[38;5;241;43m.\u001b[39;49m\u001b[43mget\u001b[49m\u001b[43m(\u001b[49m\u001b[43mtimeout\u001b[49m\u001b[38;5;241;43m=\u001b[39;49m\u001b[43mtimeout\u001b[49m\u001b[43m)\u001b[49m\n\u001b[1;32m   1132\u001b[0m         \u001b[38;5;28;01mreturn\u001b[39;00m (\u001b[38;5;28;01mTrue\u001b[39;00m, data)\n\u001b[1;32m   1133\u001b[0m     \u001b[38;5;28;01mexcept\u001b[39;00m \u001b[38;5;167;01mException\u001b[39;00m \u001b[38;5;28;01mas\u001b[39;00m e:\n\u001b[1;32m   1134\u001b[0m         \u001b[38;5;66;03m# At timeout and error, we manually check whether any worker has\u001b[39;00m\n\u001b[1;32m   1135\u001b[0m         \u001b[38;5;66;03m# failed. Note that this is the only mechanism for Windows to detect\u001b[39;00m\n\u001b[1;32m   1136\u001b[0m         \u001b[38;5;66;03m# worker failures.\u001b[39;00m\n",
      "File \u001b[0;32m~/.pyenv/versions/3.10.14/lib/python3.10/queue.py:180\u001b[0m, in \u001b[0;36mQueue.get\u001b[0;34m(self, block, timeout)\u001b[0m\n\u001b[1;32m    178\u001b[0m         \u001b[38;5;28;01mif\u001b[39;00m remaining \u001b[38;5;241m<\u001b[39m\u001b[38;5;241m=\u001b[39m \u001b[38;5;241m0.0\u001b[39m:\n\u001b[1;32m    179\u001b[0m             \u001b[38;5;28;01mraise\u001b[39;00m Empty\n\u001b[0;32m--> 180\u001b[0m         \u001b[38;5;28;43mself\u001b[39;49m\u001b[38;5;241;43m.\u001b[39;49m\u001b[43mnot_empty\u001b[49m\u001b[38;5;241;43m.\u001b[39;49m\u001b[43mwait\u001b[49m\u001b[43m(\u001b[49m\u001b[43mremaining\u001b[49m\u001b[43m)\u001b[49m\n\u001b[1;32m    181\u001b[0m item \u001b[38;5;241m=\u001b[39m \u001b[38;5;28mself\u001b[39m\u001b[38;5;241m.\u001b[39m_get()\n\u001b[1;32m    182\u001b[0m \u001b[38;5;28mself\u001b[39m\u001b[38;5;241m.\u001b[39mnot_full\u001b[38;5;241m.\u001b[39mnotify()\n",
      "File \u001b[0;32m~/.pyenv/versions/3.10.14/lib/python3.10/threading.py:324\u001b[0m, in \u001b[0;36mCondition.wait\u001b[0;34m(self, timeout)\u001b[0m\n\u001b[1;32m    322\u001b[0m \u001b[38;5;28;01melse\u001b[39;00m:\n\u001b[1;32m    323\u001b[0m     \u001b[38;5;28;01mif\u001b[39;00m timeout \u001b[38;5;241m>\u001b[39m \u001b[38;5;241m0\u001b[39m:\n\u001b[0;32m--> 324\u001b[0m         gotit \u001b[38;5;241m=\u001b[39m \u001b[43mwaiter\u001b[49m\u001b[38;5;241;43m.\u001b[39;49m\u001b[43macquire\u001b[49m\u001b[43m(\u001b[49m\u001b[38;5;28;43;01mTrue\u001b[39;49;00m\u001b[43m,\u001b[49m\u001b[43m \u001b[49m\u001b[43mtimeout\u001b[49m\u001b[43m)\u001b[49m\n\u001b[1;32m    325\u001b[0m     \u001b[38;5;28;01melse\u001b[39;00m:\n\u001b[1;32m    326\u001b[0m         gotit \u001b[38;5;241m=\u001b[39m waiter\u001b[38;5;241m.\u001b[39macquire(\u001b[38;5;28;01mFalse\u001b[39;00m)\n",
      "\u001b[0;31mKeyboardInterrupt\u001b[0m: "
     ]
    }
   ],
   "source": [
    "history = fit(model=model, train_loader=train_dl, val_loader=val_dl, epochs=5, lr=0.0001, opt_func=optimiser)"
   ]
  },
  {
   "cell_type": "markdown",
   "id": "a4d9b5b4-e13b-49d2-a373-110871294228",
   "metadata": {},
   "source": [
    "### Saving the model"
   ]
  },
  {
   "cell_type": "code",
   "execution_count": null,
   "id": "27d587ae-234c-4a3e-8d47-35a28a9c428e",
   "metadata": {},
   "outputs": [],
   "source": [
    "torch.save(model.state_dict(), \"model.pt\")"
   ]
  },
  {
   "cell_type": "markdown",
   "id": "ea5a047e-078d-407c-86db-d83394085953",
   "metadata": {},
   "source": [
    "### Loading the saved model"
   ]
  },
  {
   "cell_type": "code",
   "execution_count": 37,
   "id": "fee54bd1-47a9-43de-8494-c36745d47812",
   "metadata": {},
   "outputs": [],
   "source": [
    "saved_model = torch.load(\"model.pt\")"
   ]
  },
  {
   "cell_type": "code",
   "execution_count": 38,
   "id": "b6678057-6b4e-43d0-bea0-52f954f4e31c",
   "metadata": {},
   "outputs": [],
   "source": [
    "model1 = CNNNetwork(1,4)"
   ]
  },
  {
   "cell_type": "code",
   "execution_count": 39,
   "id": "4d3d4a13-2547-40a1-a2bc-b4cc672d57af",
   "metadata": {},
   "outputs": [
    {
     "data": {
      "text/plain": [
       "<All keys matched successfully>"
      ]
     },
     "execution_count": 39,
     "metadata": {},
     "output_type": "execute_result"
    }
   ],
   "source": [
    "model1.load_state_dict(saved_model)"
   ]
  },
  {
   "cell_type": "markdown",
   "id": "657e4eae-2ba7-4bfb-ac41-9effe4dc696d",
   "metadata": {},
   "source": [
    "## Prediction"
   ]
  },
  {
   "cell_type": "code",
   "execution_count": 40,
   "id": "ae24ed7a-a64d-4d7b-829c-fd6b89b6f039",
   "metadata": {},
   "outputs": [
    {
     "data": {
      "text/plain": [
       "{'Hindi': 0, 'Kannada': 1, 'Tamil': 2, 'Telugu': 3}"
      ]
     },
     "execution_count": 40,
     "metadata": {},
     "output_type": "execute_result"
    }
   ],
   "source": [
    "le_name_mapping"
   ]
  },
  {
   "cell_type": "code",
   "execution_count": 41,
   "id": "ac07f62e-fa49-4809-bdb7-f9de40f1e0a9",
   "metadata": {},
   "outputs": [
    {
     "data": {
      "text/plain": [
       "device(type='cpu')"
      ]
     },
     "execution_count": 41,
     "metadata": {},
     "output_type": "execute_result"
    }
   ],
   "source": [
    "torch.device('cpu')"
   ]
  },
  {
   "cell_type": "code",
   "execution_count": 42,
   "id": "994225c8-88b1-4d31-8c7f-28e02f590de1",
   "metadata": {},
   "outputs": [],
   "source": [
    "target_input, label = val_lang_data[100][0], val_lang_data[100][1]"
   ]
  },
  {
   "cell_type": "code",
   "execution_count": 43,
   "id": "538e4fc2-362f-4de6-ba54-ed1ff01fa6ab",
   "metadata": {},
   "outputs": [],
   "source": [
    "def predict(model, input, target, class_mapping):\n",
    "    model.eval()\n",
    "    with torch.no_grad():\n",
    "        predictions = model(input)\n",
    "        predicted_index = predictions[0].argmax(0)\n",
    "        predicted = class_mapping[predicted_index]\n",
    "        expected = class_mapping[target]\n",
    "    return predicted, expected"
   ]
  },
  {
   "cell_type": "code",
   "execution_count": 44,
   "id": "e981eb8f-f40c-4bdd-962b-c16c4d302423",
   "metadata": {
    "scrolled": true
   },
   "outputs": [],
   "source": [
    "predicted, expected = predict(model=model.to(device='cpu'), input= target_input.unsqueeze(0), target=label, class_mapping=list(le_name_mapping.keys()))"
   ]
  },
  {
   "cell_type": "code",
   "execution_count": 45,
   "id": "d674d6a0-8b34-4805-aaea-5a39b5337b6c",
   "metadata": {},
   "outputs": [
    {
     "data": {
      "text/plain": [
       "torch.Size([1, 128, 101])"
      ]
     },
     "execution_count": 45,
     "metadata": {},
     "output_type": "execute_result"
    }
   ],
   "source": [
    "target_input.shape"
   ]
  },
  {
   "cell_type": "code",
   "execution_count": 46,
   "id": "32326fec-4acd-46c9-871f-9b9ddcb846fd",
   "metadata": {},
   "outputs": [
    {
     "name": "stdout",
     "output_type": "stream",
     "text": [
      "the model has predicted: Tamil and the expected class is : Tamil\n"
     ]
    }
   ],
   "source": [
    "print(f\"the model has predicted: {predicted} and the expected class is : {expected}\")"
   ]
  },
  {
   "cell_type": "code",
   "execution_count": null,
   "id": "faab815d-cb76-4bba-be35-ee93954f20d7",
   "metadata": {},
   "outputs": [],
   "source": []
  }
 ],
 "metadata": {
  "kernelspec": {
   "display_name": "datascience_env",
   "language": "python",
   "name": "datascience_env"
  },
  "language_info": {
   "codemirror_mode": {
    "name": "ipython",
    "version": 3
   },
   "file_extension": ".py",
   "mimetype": "text/x-python",
   "name": "python",
   "nbconvert_exporter": "python",
   "pygments_lexer": "ipython3",
   "version": "3.10.14"
  }
 },
 "nbformat": 4,
 "nbformat_minor": 5
}
